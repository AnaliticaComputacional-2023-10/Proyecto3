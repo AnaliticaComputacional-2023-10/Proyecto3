{
 "cells": [
  {
   "attachments": {},
   "cell_type": "markdown",
   "metadata": {},
   "source": [
    "# Proyecto 3\n",
    "\n",
    "**Tema:** Resultados Saber 11\n",
    "\n",
    "\n",
    "|     Nombres      |      Apellidos       |     Login     |  Codigo   |\n",
    "| :--------------: | :------------------: | :-----------: | :-------: |\n",
    "|     Santiago     | Gonzalez Montealegre | s.gonzalez35  | 202012274 |\n",
    "| Juliana Carolina |  Cardenas Barragan   | jc.cardenasb1 | 202011683 |\n"
   ]
  },
  {
   "attachments": {},
   "cell_type": "markdown",
   "metadata": {},
   "source": [
    "## Medidas de Desempeño - Estructura - Puntajes - BIC"
   ]
  },
  {
   "attachments": {},
   "cell_type": "markdown",
   "metadata": {},
   "source": [
    "## K-Fold Cross Validation"
   ]
  },
  {
   "attachments": {},
   "cell_type": "markdown",
   "metadata": {},
   "source": [
    "## Librerías Requeridas"
   ]
  },
  {
   "cell_type": "code",
   "execution_count": null,
   "metadata": {},
   "outputs": [],
   "source": [
    "import pandas as pd\n",
    "from pgmpy.estimators import HillClimbSearch\n",
    "from pgmpy.estimators import BicScore\n",
    "from pgmpy.models import BayesianNetwork\n",
    "from pgmpy.estimators import MaximumLikelihoodEstimator\n",
    "from pgmpy.inference import VariableElimination\n",
    "from sklearn.model_selection import KFold\n",
    "import matplotlib.pyplot as plt"
   ]
  },
  {
   "attachments": {},
   "cell_type": "markdown",
   "metadata": {},
   "source": [
    "## Carga de Datos"
   ]
  },
  {
   "cell_type": "code",
   "execution_count": null,
   "metadata": {},
   "outputs": [],
   "source": [
    "df = pd.read_csv(\"../../../Data/Transformed/Discrete.csv\")"
   ]
  }
 ],
 "metadata": {
  "language_info": {
   "name": "python"
  },
  "orig_nbformat": 4
 },
 "nbformat": 4,
 "nbformat_minor": 2
}
