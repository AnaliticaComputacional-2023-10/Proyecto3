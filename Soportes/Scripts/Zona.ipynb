{
 "cells": [
  {
   "attachments": {},
   "cell_type": "markdown",
   "metadata": {},
   "source": [
    "# Proyecto 3\n",
    "\n",
    "**Tema:** Resultados Saber 11\n",
    "\n",
    "\n",
    "\n",
    "|     Nombres      |      Apellidos       |     Login     |  Codigo   |\n",
    "| :--------------: | :------------------: | :-----------: | :-------: |\n",
    "|     Santiago     | Gonzalez Montealegre | s.gonzalez35  | 202012274 |\n",
    "| Juliana Carolina |  Cardenas Barragan   | jc.cardenasb1 | 202011683 |\n"
   ]
  },
  {
   "attachments": {},
   "cell_type": "markdown",
   "metadata": {},
   "source": [
    "## Librerías Requeridas"
   ]
  },
  {
   "cell_type": "code",
   "execution_count": 1,
   "metadata": {},
   "outputs": [],
   "source": [
    "import pandas as pd"
   ]
  },
  {
   "attachments": {},
   "cell_type": "markdown",
   "metadata": {},
   "source": [
    "## Carga de Datos"
   ]
  },
  {
   "cell_type": "code",
   "execution_count": 2,
   "metadata": {},
   "outputs": [],
   "source": [
    "original = pd.read_csv('../../Data/Transformed/Clean.csv')"
   ]
  },
  {
   "cell_type": "code",
   "execution_count": 14,
   "metadata": {},
   "outputs": [
    {
     "data": {
      "text/html": [
       "<div>\n",
       "<style scoped>\n",
       "    .dataframe tbody tr th:only-of-type {\n",
       "        vertical-align: middle;\n",
       "    }\n",
       "\n",
       "    .dataframe tbody tr th {\n",
       "        vertical-align: top;\n",
       "    }\n",
       "\n",
       "    .dataframe thead th {\n",
       "        text-align: right;\n",
       "    }\n",
       "</style>\n",
       "<table border=\"1\" class=\"dataframe\">\n",
       "  <thead>\n",
       "    <tr style=\"text-align: right;\">\n",
       "      <th></th>\n",
       "      <th>cole_area_ubicacion</th>\n",
       "      <th>cole_bilingue</th>\n",
       "      <th>cole_calendario</th>\n",
       "      <th>cole_naturaleza</th>\n",
       "      <th>cole_genero</th>\n",
       "      <th>cole_jornada</th>\n",
       "      <th>cole_cod_depto_ubicacion</th>\n",
       "      <th>cole_cod_mcpio_ubicacion</th>\n",
       "      <th>estu_cod_depto_presentacion</th>\n",
       "      <th>estu_cod_mcpio_presentacion</th>\n",
       "      <th>estu_cod_reside_depto</th>\n",
       "      <th>estu_cod_reside_mcpio</th>\n",
       "      <th>estu_genero</th>\n",
       "      <th>fami_estratovivienda</th>\n",
       "      <th>fami_educacionmadre</th>\n",
       "      <th>fami_educacionpadre</th>\n",
       "      <th>fami_personashogar</th>\n",
       "      <th>fami_tienecomputador</th>\n",
       "      <th>fami_tieneinternet</th>\n",
       "      <th>punt_global</th>\n",
       "    </tr>\n",
       "  </thead>\n",
       "  <tbody>\n",
       "    <tr>\n",
       "      <th>0</th>\n",
       "      <td>URBANO</td>\n",
       "      <td>N</td>\n",
       "      <td>A</td>\n",
       "      <td>OFICIAL</td>\n",
       "      <td>MIXTO</td>\n",
       "      <td>MAÑANA</td>\n",
       "      <td>13</td>\n",
       "      <td>13001</td>\n",
       "      <td>13</td>\n",
       "      <td>13001</td>\n",
       "      <td>13</td>\n",
       "      <td>13001</td>\n",
       "      <td>F</td>\n",
       "      <td>Estrato 1</td>\n",
       "      <td>Secundaria (Bachillerato) incompleta</td>\n",
       "      <td>Primaria incompleta</td>\n",
       "      <td>Siete</td>\n",
       "      <td>Si</td>\n",
       "      <td>Si</td>\n",
       "      <td>205</td>\n",
       "    </tr>\n",
       "    <tr>\n",
       "      <th>1</th>\n",
       "      <td>URBANO</td>\n",
       "      <td>N</td>\n",
       "      <td>A</td>\n",
       "      <td>OFICIAL</td>\n",
       "      <td>MIXTO</td>\n",
       "      <td>MAÑANA</td>\n",
       "      <td>70</td>\n",
       "      <td>70523</td>\n",
       "      <td>70</td>\n",
       "      <td>70001</td>\n",
       "      <td>70</td>\n",
       "      <td>70523</td>\n",
       "      <td>F</td>\n",
       "      <td>Estrato 1</td>\n",
       "      <td>Primaria completa</td>\n",
       "      <td>Primaria completa</td>\n",
       "      <td>5 a 6</td>\n",
       "      <td>No</td>\n",
       "      <td>No</td>\n",
       "      <td>187</td>\n",
       "    </tr>\n",
       "    <tr>\n",
       "      <th>2</th>\n",
       "      <td>URBANO</td>\n",
       "      <td>N</td>\n",
       "      <td>A</td>\n",
       "      <td>OFICIAL</td>\n",
       "      <td>MIXTO</td>\n",
       "      <td>MAÑANA</td>\n",
       "      <td>70</td>\n",
       "      <td>70523</td>\n",
       "      <td>70</td>\n",
       "      <td>70001</td>\n",
       "      <td>70</td>\n",
       "      <td>70523</td>\n",
       "      <td>F</td>\n",
       "      <td>Estrato 1</td>\n",
       "      <td>Primaria completa</td>\n",
       "      <td>Primaria completa</td>\n",
       "      <td>5 a 6</td>\n",
       "      <td>No</td>\n",
       "      <td>No</td>\n",
       "      <td>187</td>\n",
       "    </tr>\n",
       "    <tr>\n",
       "      <th>3</th>\n",
       "      <td>RURAL</td>\n",
       "      <td>N</td>\n",
       "      <td>A</td>\n",
       "      <td>NO OFICIAL</td>\n",
       "      <td>MASCULINO</td>\n",
       "      <td>COMPLETA</td>\n",
       "      <td>11</td>\n",
       "      <td>11001</td>\n",
       "      <td>11</td>\n",
       "      <td>11001</td>\n",
       "      <td>11</td>\n",
       "      <td>11001</td>\n",
       "      <td>F</td>\n",
       "      <td>Estrato 4</td>\n",
       "      <td>Educación profesional completa</td>\n",
       "      <td>Postgrado</td>\n",
       "      <td>Cuatro</td>\n",
       "      <td>Si</td>\n",
       "      <td>Si</td>\n",
       "      <td>313</td>\n",
       "    </tr>\n",
       "    <tr>\n",
       "      <th>4</th>\n",
       "      <td>URBANO</td>\n",
       "      <td>N</td>\n",
       "      <td>A</td>\n",
       "      <td>OFICIAL</td>\n",
       "      <td>MIXTO</td>\n",
       "      <td>MAÑANA</td>\n",
       "      <td>25</td>\n",
       "      <td>25899</td>\n",
       "      <td>25</td>\n",
       "      <td>25899</td>\n",
       "      <td>25</td>\n",
       "      <td>25899</td>\n",
       "      <td>F</td>\n",
       "      <td>Estrato 1</td>\n",
       "      <td>Primaria incompleta</td>\n",
       "      <td>Primaria incompleta</td>\n",
       "      <td>7 a 8</td>\n",
       "      <td>Si</td>\n",
       "      <td>Si</td>\n",
       "      <td>201</td>\n",
       "    </tr>\n",
       "  </tbody>\n",
       "</table>\n",
       "</div>"
      ],
      "text/plain": [
       "  cole_area_ubicacion cole_bilingue cole_calendario cole_naturaleza  \\\n",
       "0              URBANO             N               A         OFICIAL   \n",
       "1              URBANO             N               A         OFICIAL   \n",
       "2              URBANO             N               A         OFICIAL   \n",
       "3               RURAL             N               A      NO OFICIAL   \n",
       "4              URBANO             N               A         OFICIAL   \n",
       "\n",
       "  cole_genero cole_jornada  cole_cod_depto_ubicacion  \\\n",
       "0       MIXTO       MAÑANA                        13   \n",
       "1       MIXTO       MAÑANA                        70   \n",
       "2       MIXTO       MAÑANA                        70   \n",
       "3   MASCULINO     COMPLETA                        11   \n",
       "4       MIXTO       MAÑANA                        25   \n",
       "\n",
       "   cole_cod_mcpio_ubicacion  estu_cod_depto_presentacion  \\\n",
       "0                     13001                           13   \n",
       "1                     70523                           70   \n",
       "2                     70523                           70   \n",
       "3                     11001                           11   \n",
       "4                     25899                           25   \n",
       "\n",
       "   estu_cod_mcpio_presentacion  estu_cod_reside_depto  estu_cod_reside_mcpio  \\\n",
       "0                        13001                     13                  13001   \n",
       "1                        70001                     70                  70523   \n",
       "2                        70001                     70                  70523   \n",
       "3                        11001                     11                  11001   \n",
       "4                        25899                     25                  25899   \n",
       "\n",
       "  estu_genero fami_estratovivienda                   fami_educacionmadre  \\\n",
       "0           F            Estrato 1  Secundaria (Bachillerato) incompleta   \n",
       "1           F            Estrato 1                     Primaria completa   \n",
       "2           F            Estrato 1                     Primaria completa   \n",
       "3           F            Estrato 4        Educación profesional completa   \n",
       "4           F            Estrato 1                   Primaria incompleta   \n",
       "\n",
       "   fami_educacionpadre fami_personashogar fami_tienecomputador  \\\n",
       "0  Primaria incompleta              Siete                   Si   \n",
       "1    Primaria completa              5 a 6                   No   \n",
       "2    Primaria completa              5 a 6                   No   \n",
       "3            Postgrado             Cuatro                   Si   \n",
       "4  Primaria incompleta              7 a 8                   Si   \n",
       "\n",
       "  fami_tieneinternet  punt_global  \n",
       "0                 Si          205  \n",
       "1                 No          187  \n",
       "2                 No          187  \n",
       "3                 Si          313  \n",
       "4                 Si          201  "
      ]
     },
     "execution_count": 14,
     "metadata": {},
     "output_type": "execute_result"
    }
   ],
   "source": [
    "original.head()"
   ]
  },
  {
   "attachments": {},
   "cell_type": "markdown",
   "metadata": {},
   "source": [
    "## Transformación"
   ]
  },
  {
   "cell_type": "code",
   "execution_count": 40,
   "metadata": {},
   "outputs": [],
   "source": [
    "df = original.groupby(['cole_area_ubicacion', 'cole_naturaleza']).agg(punt_promedio = ('punt_global', 'mean')).reset_index()\n",
    "\n",
    "df.loc[df['cole_area_ubicacion'] == 'RURAL', 'cole_area_ubicacion'] = 'Rural'\n",
    "df.loc[df['cole_area_ubicacion'] == 'URBANO', 'cole_area_ubicacion'] = 'Urbano'\n",
    "\n",
    "df.loc[df['cole_naturaleza'] == 'NO OFICIAL', 'cole_naturaleza'] = 'Privado'\n",
    "df.loc[df['cole_naturaleza'] == 'OFICIAL', 'cole_naturaleza'] = 'Publico'"
   ]
  },
  {
   "cell_type": "code",
   "execution_count": 41,
   "metadata": {},
   "outputs": [
    {
     "data": {
      "text/html": [
       "<div>\n",
       "<style scoped>\n",
       "    .dataframe tbody tr th:only-of-type {\n",
       "        vertical-align: middle;\n",
       "    }\n",
       "\n",
       "    .dataframe tbody tr th {\n",
       "        vertical-align: top;\n",
       "    }\n",
       "\n",
       "    .dataframe thead th {\n",
       "        text-align: right;\n",
       "    }\n",
       "</style>\n",
       "<table border=\"1\" class=\"dataframe\">\n",
       "  <thead>\n",
       "    <tr style=\"text-align: right;\">\n",
       "      <th></th>\n",
       "      <th>cole_area_ubicacion</th>\n",
       "      <th>cole_naturaleza</th>\n",
       "      <th>punt_promedio</th>\n",
       "    </tr>\n",
       "  </thead>\n",
       "  <tbody>\n",
       "    <tr>\n",
       "      <th>0</th>\n",
       "      <td>Rural</td>\n",
       "      <td>Privado</td>\n",
       "      <td>302.447131</td>\n",
       "    </tr>\n",
       "    <tr>\n",
       "      <th>1</th>\n",
       "      <td>Rural</td>\n",
       "      <td>Publico</td>\n",
       "      <td>232.524394</td>\n",
       "    </tr>\n",
       "    <tr>\n",
       "      <th>2</th>\n",
       "      <td>Urbano</td>\n",
       "      <td>Privado</td>\n",
       "      <td>277.038807</td>\n",
       "    </tr>\n",
       "    <tr>\n",
       "      <th>3</th>\n",
       "      <td>Urbano</td>\n",
       "      <td>Publico</td>\n",
       "      <td>250.853328</td>\n",
       "    </tr>\n",
       "  </tbody>\n",
       "</table>\n",
       "</div>"
      ],
      "text/plain": [
       "  cole_area_ubicacion cole_naturaleza  punt_promedio\n",
       "0               Rural         Privado     302.447131\n",
       "1               Rural         Publico     232.524394\n",
       "2              Urbano         Privado     277.038807\n",
       "3              Urbano         Publico     250.853328"
      ]
     },
     "execution_count": 41,
     "metadata": {},
     "output_type": "execute_result"
    }
   ],
   "source": [
    "df.head()"
   ]
  },
  {
   "attachments": {},
   "cell_type": "markdown",
   "metadata": {},
   "source": [
    "## Gráfica"
   ]
  },
  {
   "cell_type": "code",
   "execution_count": 4,
   "metadata": {},
   "outputs": [],
   "source": [
    "import plotly.express as px"
   ]
  },
  {
   "cell_type": "code",
   "execution_count": 42,
   "metadata": {},
   "outputs": [
    {
     "data": {
      "application/vnd.plotly.v1+json": {
       "config": {
        "plotlyServerURL": "https://plot.ly"
       },
       "data": [
        {
         "alignmentgroup": "True",
         "hovertemplate": "cole_naturaleza=Privado<br>punt_promedio=%{x}<br>cole_area_ubicacion=%{y}<extra></extra>",
         "legendgroup": "Privado",
         "marker": {
          "color": "#636efa",
          "pattern": {
           "shape": ""
          }
         },
         "name": "Privado",
         "offsetgroup": "Privado",
         "orientation": "h",
         "showlegend": true,
         "textposition": "auto",
         "type": "bar",
         "x": [
          302.4471307742355,
          277.03880722298237
         ],
         "xaxis": "x",
         "y": [
          "Rural",
          "Urbano"
         ],
         "yaxis": "y"
        },
        {
         "alignmentgroup": "True",
         "hovertemplate": "cole_naturaleza=Publico<br>punt_promedio=%{x}<br>cole_area_ubicacion=%{y}<extra></extra>",
         "legendgroup": "Publico",
         "marker": {
          "color": "#EF553B",
          "pattern": {
           "shape": ""
          }
         },
         "name": "Publico",
         "offsetgroup": "Publico",
         "orientation": "h",
         "showlegend": true,
         "textposition": "auto",
         "type": "bar",
         "x": [
          232.52439417157996,
          250.85332804547556
         ],
         "xaxis": "x",
         "y": [
          "Rural",
          "Urbano"
         ],
         "yaxis": "y"
        }
       ],
       "layout": {
        "barmode": "group",
        "legend": {
         "title": {
          "text": "Tipo"
         },
         "tracegroupgap": 0
        },
        "margin": {
         "t": 60
        },
        "template": {
         "data": {
          "bar": [
           {
            "error_x": {
             "color": "#2a3f5f"
            },
            "error_y": {
             "color": "#2a3f5f"
            },
            "marker": {
             "line": {
              "color": "#E5ECF6",
              "width": 0.5
             },
             "pattern": {
              "fillmode": "overlay",
              "size": 10,
              "solidity": 0.2
             }
            },
            "type": "bar"
           }
          ],
          "barpolar": [
           {
            "marker": {
             "line": {
              "color": "#E5ECF6",
              "width": 0.5
             },
             "pattern": {
              "fillmode": "overlay",
              "size": 10,
              "solidity": 0.2
             }
            },
            "type": "barpolar"
           }
          ],
          "carpet": [
           {
            "aaxis": {
             "endlinecolor": "#2a3f5f",
             "gridcolor": "white",
             "linecolor": "white",
             "minorgridcolor": "white",
             "startlinecolor": "#2a3f5f"
            },
            "baxis": {
             "endlinecolor": "#2a3f5f",
             "gridcolor": "white",
             "linecolor": "white",
             "minorgridcolor": "white",
             "startlinecolor": "#2a3f5f"
            },
            "type": "carpet"
           }
          ],
          "choropleth": [
           {
            "colorbar": {
             "outlinewidth": 0,
             "ticks": ""
            },
            "type": "choropleth"
           }
          ],
          "contour": [
           {
            "colorbar": {
             "outlinewidth": 0,
             "ticks": ""
            },
            "colorscale": [
             [
              0,
              "#0d0887"
             ],
             [
              0.1111111111111111,
              "#46039f"
             ],
             [
              0.2222222222222222,
              "#7201a8"
             ],
             [
              0.3333333333333333,
              "#9c179e"
             ],
             [
              0.4444444444444444,
              "#bd3786"
             ],
             [
              0.5555555555555556,
              "#d8576b"
             ],
             [
              0.6666666666666666,
              "#ed7953"
             ],
             [
              0.7777777777777778,
              "#fb9f3a"
             ],
             [
              0.8888888888888888,
              "#fdca26"
             ],
             [
              1,
              "#f0f921"
             ]
            ],
            "type": "contour"
           }
          ],
          "contourcarpet": [
           {
            "colorbar": {
             "outlinewidth": 0,
             "ticks": ""
            },
            "type": "contourcarpet"
           }
          ],
          "heatmap": [
           {
            "colorbar": {
             "outlinewidth": 0,
             "ticks": ""
            },
            "colorscale": [
             [
              0,
              "#0d0887"
             ],
             [
              0.1111111111111111,
              "#46039f"
             ],
             [
              0.2222222222222222,
              "#7201a8"
             ],
             [
              0.3333333333333333,
              "#9c179e"
             ],
             [
              0.4444444444444444,
              "#bd3786"
             ],
             [
              0.5555555555555556,
              "#d8576b"
             ],
             [
              0.6666666666666666,
              "#ed7953"
             ],
             [
              0.7777777777777778,
              "#fb9f3a"
             ],
             [
              0.8888888888888888,
              "#fdca26"
             ],
             [
              1,
              "#f0f921"
             ]
            ],
            "type": "heatmap"
           }
          ],
          "heatmapgl": [
           {
            "colorbar": {
             "outlinewidth": 0,
             "ticks": ""
            },
            "colorscale": [
             [
              0,
              "#0d0887"
             ],
             [
              0.1111111111111111,
              "#46039f"
             ],
             [
              0.2222222222222222,
              "#7201a8"
             ],
             [
              0.3333333333333333,
              "#9c179e"
             ],
             [
              0.4444444444444444,
              "#bd3786"
             ],
             [
              0.5555555555555556,
              "#d8576b"
             ],
             [
              0.6666666666666666,
              "#ed7953"
             ],
             [
              0.7777777777777778,
              "#fb9f3a"
             ],
             [
              0.8888888888888888,
              "#fdca26"
             ],
             [
              1,
              "#f0f921"
             ]
            ],
            "type": "heatmapgl"
           }
          ],
          "histogram": [
           {
            "marker": {
             "pattern": {
              "fillmode": "overlay",
              "size": 10,
              "solidity": 0.2
             }
            },
            "type": "histogram"
           }
          ],
          "histogram2d": [
           {
            "colorbar": {
             "outlinewidth": 0,
             "ticks": ""
            },
            "colorscale": [
             [
              0,
              "#0d0887"
             ],
             [
              0.1111111111111111,
              "#46039f"
             ],
             [
              0.2222222222222222,
              "#7201a8"
             ],
             [
              0.3333333333333333,
              "#9c179e"
             ],
             [
              0.4444444444444444,
              "#bd3786"
             ],
             [
              0.5555555555555556,
              "#d8576b"
             ],
             [
              0.6666666666666666,
              "#ed7953"
             ],
             [
              0.7777777777777778,
              "#fb9f3a"
             ],
             [
              0.8888888888888888,
              "#fdca26"
             ],
             [
              1,
              "#f0f921"
             ]
            ],
            "type": "histogram2d"
           }
          ],
          "histogram2dcontour": [
           {
            "colorbar": {
             "outlinewidth": 0,
             "ticks": ""
            },
            "colorscale": [
             [
              0,
              "#0d0887"
             ],
             [
              0.1111111111111111,
              "#46039f"
             ],
             [
              0.2222222222222222,
              "#7201a8"
             ],
             [
              0.3333333333333333,
              "#9c179e"
             ],
             [
              0.4444444444444444,
              "#bd3786"
             ],
             [
              0.5555555555555556,
              "#d8576b"
             ],
             [
              0.6666666666666666,
              "#ed7953"
             ],
             [
              0.7777777777777778,
              "#fb9f3a"
             ],
             [
              0.8888888888888888,
              "#fdca26"
             ],
             [
              1,
              "#f0f921"
             ]
            ],
            "type": "histogram2dcontour"
           }
          ],
          "mesh3d": [
           {
            "colorbar": {
             "outlinewidth": 0,
             "ticks": ""
            },
            "type": "mesh3d"
           }
          ],
          "parcoords": [
           {
            "line": {
             "colorbar": {
              "outlinewidth": 0,
              "ticks": ""
             }
            },
            "type": "parcoords"
           }
          ],
          "pie": [
           {
            "automargin": true,
            "type": "pie"
           }
          ],
          "scatter": [
           {
            "fillpattern": {
             "fillmode": "overlay",
             "size": 10,
             "solidity": 0.2
            },
            "type": "scatter"
           }
          ],
          "scatter3d": [
           {
            "line": {
             "colorbar": {
              "outlinewidth": 0,
              "ticks": ""
             }
            },
            "marker": {
             "colorbar": {
              "outlinewidth": 0,
              "ticks": ""
             }
            },
            "type": "scatter3d"
           }
          ],
          "scattercarpet": [
           {
            "marker": {
             "colorbar": {
              "outlinewidth": 0,
              "ticks": ""
             }
            },
            "type": "scattercarpet"
           }
          ],
          "scattergeo": [
           {
            "marker": {
             "colorbar": {
              "outlinewidth": 0,
              "ticks": ""
             }
            },
            "type": "scattergeo"
           }
          ],
          "scattergl": [
           {
            "marker": {
             "colorbar": {
              "outlinewidth": 0,
              "ticks": ""
             }
            },
            "type": "scattergl"
           }
          ],
          "scattermapbox": [
           {
            "marker": {
             "colorbar": {
              "outlinewidth": 0,
              "ticks": ""
             }
            },
            "type": "scattermapbox"
           }
          ],
          "scatterpolar": [
           {
            "marker": {
             "colorbar": {
              "outlinewidth": 0,
              "ticks": ""
             }
            },
            "type": "scatterpolar"
           }
          ],
          "scatterpolargl": [
           {
            "marker": {
             "colorbar": {
              "outlinewidth": 0,
              "ticks": ""
             }
            },
            "type": "scatterpolargl"
           }
          ],
          "scatterternary": [
           {
            "marker": {
             "colorbar": {
              "outlinewidth": 0,
              "ticks": ""
             }
            },
            "type": "scatterternary"
           }
          ],
          "surface": [
           {
            "colorbar": {
             "outlinewidth": 0,
             "ticks": ""
            },
            "colorscale": [
             [
              0,
              "#0d0887"
             ],
             [
              0.1111111111111111,
              "#46039f"
             ],
             [
              0.2222222222222222,
              "#7201a8"
             ],
             [
              0.3333333333333333,
              "#9c179e"
             ],
             [
              0.4444444444444444,
              "#bd3786"
             ],
             [
              0.5555555555555556,
              "#d8576b"
             ],
             [
              0.6666666666666666,
              "#ed7953"
             ],
             [
              0.7777777777777778,
              "#fb9f3a"
             ],
             [
              0.8888888888888888,
              "#fdca26"
             ],
             [
              1,
              "#f0f921"
             ]
            ],
            "type": "surface"
           }
          ],
          "table": [
           {
            "cells": {
             "fill": {
              "color": "#EBF0F8"
             },
             "line": {
              "color": "white"
             }
            },
            "header": {
             "fill": {
              "color": "#C8D4E3"
             },
             "line": {
              "color": "white"
             }
            },
            "type": "table"
           }
          ]
         },
         "layout": {
          "annotationdefaults": {
           "arrowcolor": "#2a3f5f",
           "arrowhead": 0,
           "arrowwidth": 1
          },
          "autotypenumbers": "strict",
          "coloraxis": {
           "colorbar": {
            "outlinewidth": 0,
            "ticks": ""
           }
          },
          "colorscale": {
           "diverging": [
            [
             0,
             "#8e0152"
            ],
            [
             0.1,
             "#c51b7d"
            ],
            [
             0.2,
             "#de77ae"
            ],
            [
             0.3,
             "#f1b6da"
            ],
            [
             0.4,
             "#fde0ef"
            ],
            [
             0.5,
             "#f7f7f7"
            ],
            [
             0.6,
             "#e6f5d0"
            ],
            [
             0.7,
             "#b8e186"
            ],
            [
             0.8,
             "#7fbc41"
            ],
            [
             0.9,
             "#4d9221"
            ],
            [
             1,
             "#276419"
            ]
           ],
           "sequential": [
            [
             0,
             "#0d0887"
            ],
            [
             0.1111111111111111,
             "#46039f"
            ],
            [
             0.2222222222222222,
             "#7201a8"
            ],
            [
             0.3333333333333333,
             "#9c179e"
            ],
            [
             0.4444444444444444,
             "#bd3786"
            ],
            [
             0.5555555555555556,
             "#d8576b"
            ],
            [
             0.6666666666666666,
             "#ed7953"
            ],
            [
             0.7777777777777778,
             "#fb9f3a"
            ],
            [
             0.8888888888888888,
             "#fdca26"
            ],
            [
             1,
             "#f0f921"
            ]
           ],
           "sequentialminus": [
            [
             0,
             "#0d0887"
            ],
            [
             0.1111111111111111,
             "#46039f"
            ],
            [
             0.2222222222222222,
             "#7201a8"
            ],
            [
             0.3333333333333333,
             "#9c179e"
            ],
            [
             0.4444444444444444,
             "#bd3786"
            ],
            [
             0.5555555555555556,
             "#d8576b"
            ],
            [
             0.6666666666666666,
             "#ed7953"
            ],
            [
             0.7777777777777778,
             "#fb9f3a"
            ],
            [
             0.8888888888888888,
             "#fdca26"
            ],
            [
             1,
             "#f0f921"
            ]
           ]
          },
          "colorway": [
           "#636efa",
           "#EF553B",
           "#00cc96",
           "#ab63fa",
           "#FFA15A",
           "#19d3f3",
           "#FF6692",
           "#B6E880",
           "#FF97FF",
           "#FECB52"
          ],
          "font": {
           "color": "#2a3f5f"
          },
          "geo": {
           "bgcolor": "white",
           "lakecolor": "white",
           "landcolor": "#E5ECF6",
           "showlakes": true,
           "showland": true,
           "subunitcolor": "white"
          },
          "hoverlabel": {
           "align": "left"
          },
          "hovermode": "closest",
          "mapbox": {
           "style": "light"
          },
          "paper_bgcolor": "white",
          "plot_bgcolor": "#E5ECF6",
          "polar": {
           "angularaxis": {
            "gridcolor": "white",
            "linecolor": "white",
            "ticks": ""
           },
           "bgcolor": "#E5ECF6",
           "radialaxis": {
            "gridcolor": "white",
            "linecolor": "white",
            "ticks": ""
           }
          },
          "scene": {
           "xaxis": {
            "backgroundcolor": "#E5ECF6",
            "gridcolor": "white",
            "gridwidth": 2,
            "linecolor": "white",
            "showbackground": true,
            "ticks": "",
            "zerolinecolor": "white"
           },
           "yaxis": {
            "backgroundcolor": "#E5ECF6",
            "gridcolor": "white",
            "gridwidth": 2,
            "linecolor": "white",
            "showbackground": true,
            "ticks": "",
            "zerolinecolor": "white"
           },
           "zaxis": {
            "backgroundcolor": "#E5ECF6",
            "gridcolor": "white",
            "gridwidth": 2,
            "linecolor": "white",
            "showbackground": true,
            "ticks": "",
            "zerolinecolor": "white"
           }
          },
          "shapedefaults": {
           "line": {
            "color": "#2a3f5f"
           }
          },
          "ternary": {
           "aaxis": {
            "gridcolor": "white",
            "linecolor": "white",
            "ticks": ""
           },
           "baxis": {
            "gridcolor": "white",
            "linecolor": "white",
            "ticks": ""
           },
           "bgcolor": "#E5ECF6",
           "caxis": {
            "gridcolor": "white",
            "linecolor": "white",
            "ticks": ""
           }
          },
          "title": {
           "x": 0.05
          },
          "xaxis": {
           "automargin": true,
           "gridcolor": "white",
           "linecolor": "white",
           "ticks": "",
           "title": {
            "standoff": 15
           },
           "zerolinecolor": "white",
           "zerolinewidth": 2
          },
          "yaxis": {
           "automargin": true,
           "gridcolor": "white",
           "linecolor": "white",
           "ticks": "",
           "title": {
            "standoff": 15
           },
           "zerolinecolor": "white",
           "zerolinewidth": 2
          }
         }
        },
        "xaxis": {
         "anchor": "y",
         "domain": [
          0,
          1
         ],
         "range": [
          0,
          500
         ],
         "title": {
          "text": "Puntaje Promedio"
         }
        },
        "yaxis": {
         "anchor": "x",
         "domain": [
          0,
          1
         ],
         "title": {
          "text": "Zona Ubicación"
         }
        }
       }
      }
     },
     "metadata": {},
     "output_type": "display_data"
    }
   ],
   "source": [
    "fig = px.bar(\n",
    "    data_frame=df,\n",
    "    y='cole_area_ubicacion',\n",
    "    x='punt_promedio',\n",
    "    color='cole_naturaleza',\n",
    "    orientation='h',\n",
    "    barmode='group'\n",
    "    \n",
    ")\n",
    "fig.update_layout(\n",
    "    xaxis_range=[0, 500],\n",
    "    legend_title_text='Tipo'\n",
    ")\n",
    "fig.update_xaxes(\n",
    "    title='Puntaje Promedio'\n",
    ")\n",
    "fig.update_yaxes(\n",
    "    title='Zona Ubicación'\n",
    ")\n",
    "fig.show()"
   ]
  },
  {
   "attachments": {},
   "cell_type": "markdown",
   "metadata": {},
   "source": [
    "## Creación Script Base de Datos"
   ]
  },
  {
   "cell_type": "code",
   "execution_count": 43,
   "metadata": {},
   "outputs": [],
   "source": [
    "sql_script = \"\"\"\n",
    "CREATE TABLE promedio_zona (\n",
    "    zona VARCHAR(255),\n",
    "    tipo VARCHAR(255),\n",
    "    punt_promedio NUMBER\n",
    ");\n",
    "\"\"\""
   ]
  },
  {
   "cell_type": "code",
   "execution_count": 44,
   "metadata": {},
   "outputs": [],
   "source": [
    "sql_script += 'INSERT INTO promedio_zona (zona, tipo, punt_promedio) VALUES\\n'\n",
    "\n",
    "values = []\n",
    "for i, row in df.iterrows():\n",
    "    value = f\"('{row['cole_area_ubicacion']}', '{row['cole_naturaleza']}', {float(row['punt_promedio'])})\"\n",
    "    # value = f\"({int(row['age'])}, {int(row['sex'])}, {int(row['cp'])}, {int(row['trestbps'])}, {int(row['chol'])}, {int(row['fbs'])}, {int(row['restecg'])}, {int(row['thalach'])}, {int(row['exang'])}, {row['oldpeak']}, {int(row['slope'])}, {int(row['ca'])}, {int(row['thal'])}, {int(row['heartdis'])})\"\n",
    "    values.append(value)\n",
    "    \n",
    "sql_script += ',\\n'.join(values) + ';'"
   ]
  },
  {
   "attachments": {},
   "cell_type": "markdown",
   "metadata": {},
   "source": [
    "## Guardar Script"
   ]
  },
  {
   "cell_type": "code",
   "execution_count": 45,
   "metadata": {},
   "outputs": [],
   "source": [
    "with open(\"../../Data/Scripts/Zona_Script.sql\", \"w\") as sql_file:\n",
    "    sql_file.write(sql_script)"
   ]
  }
 ],
 "metadata": {
  "kernelspec": {
   "display_name": "Python 3",
   "language": "python",
   "name": "python3"
  },
  "language_info": {
   "codemirror_mode": {
    "name": "ipython",
    "version": 3
   },
   "file_extension": ".py",
   "mimetype": "text/x-python",
   "name": "python",
   "nbconvert_exporter": "python",
   "pygments_lexer": "ipython3",
   "version": "3.10.6"
  },
  "orig_nbformat": 4
 },
 "nbformat": 4,
 "nbformat_minor": 2
}
