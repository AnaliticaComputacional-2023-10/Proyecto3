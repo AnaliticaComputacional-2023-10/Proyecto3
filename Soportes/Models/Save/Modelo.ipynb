{
 "cells": [
  {
   "attachments": {},
   "cell_type": "markdown",
   "metadata": {},
   "source": [
    "# Proyecto 3\n",
    "\n",
    "**Tema:** Resultados Saber 11\n",
    "\n",
    "|     Nombres      |      Apellidos       |     Login     |  Codigo   |\n",
    "| :--------------: | :------------------: | :-----------: | :-------: |\n",
    "|     Santiago     | Gonzalez Montealegre | s.gonzalez35  | 202012274 |\n",
    "| Juliana Carolina |  Cardenas Barragan   | jc.cardenasb1 | 202011683 |"
   ]
  },
  {
   "attachments": {},
   "cell_type": "markdown",
   "metadata": {},
   "source": [
    "## Modelo"
   ]
  },
  {
   "attachments": {},
   "cell_type": "markdown",
   "metadata": {},
   "source": [
    "## Librerías Requeridas"
   ]
  },
  {
   "cell_type": "code",
   "execution_count": 1,
   "metadata": {},
   "outputs": [],
   "source": [
    "import pandas as pd\n",
    "from pgmpy.models import BayesianNetwork\n",
    "from pgmpy.estimators import MaximumLikelihoodEstimator\n",
    "from pgmpy.readwrite import BIFWriter"
   ]
  },
  {
   "attachments": {},
   "cell_type": "markdown",
   "metadata": {},
   "source": [
    "## Arcos"
   ]
  },
  {
   "attachments": {},
   "cell_type": "markdown",
   "metadata": {},
   "source": [
    "### BIC"
   ]
  },
  {
   "cell_type": "code",
   "execution_count": 2,
   "metadata": {},
   "outputs": [],
   "source": [
    "edges_bic = [('colegio_rural', 'presentacion_mcpio_distinto'), ('colegio_rural', 'colegio_privado'), ('colegio_rural', 'colegio_mcpio_distinto'), ('colegio_rural', 'colegio_calendario'), ('colegio_rural', 'colegio_genero'), ('colegio_calendario', 'colegio_bilingue'), ('colegio_privado', 'colegio_jornada'), ('colegio_privado', 'colegio_calendario'), ('colegio_privado', 'presentacion_mcpio_distinto'), ('colegio_privado', 'colegio_mcpio_distinto'), ('colegio_privado', 'estudiante_genero'), ('colegio_genero', 'estudiante_genero'), ('colegio_genero', 'colegio_bilingue'), ('colegio_jornada', 'colegio_genero'), ('colegio_jornada', 'colegio_calendario'), ('colegio_jornada', 'colegio_bilingue'), ('familia_estrato', 'internet'), ('familia_estrato', 'colegio_privado'), ('familia_estrato', 'puntaje'), ('familia_estrato', 'colegio_calendario'), ('familia_estrato', 'computador'), ('familia_estrato', 'colegio_rural'), ('familia_estrato', 'colegio_bilingue'), ('familia_estrato', 'colegio_genero'), ('familia_estrato', 'colegio_mcpio_distinto'), ('madre_educacion', 'familia_estrato'), ('madre_educacion', 'puntaje'), ('madre_educacion', 'internet'), ('madre_educacion', 'colegio_privado'), ('madre_educacion', 'computador'), ('madre_educacion', 'colegio_jornada'), ('madre_educacion', 'colegio_genero'), ('madre_educacion', 'estudiante_genero'), ('padre_educacion', 'madre_educacion'), ('padre_educacion', 'familia_estrato'), ('padre_educacion', 'colegio_rural'), ('padre_educacion', 'internet'), ('padre_educacion', 'computador'), ('computador', 'puntaje'), ('computador', 'colegio_rural'), ('internet', 'computador'), ('internet', 'colegio_rural'), ('internet', 'presentacion_mcpio_distinto'), ('internet', 'puntaje'), ('internet', 'colegio_mcpio_distinto'), ('puntaje', 'colegio_jornada'), ('puntaje', 'colegio_privado'), ('puntaje', 'estudiante_genero'), ('colegio_mcpio_distinto', 'presentacion_mcpio_distinto'), ('presentacion_mcpio_distinto', 'colegio_jornada')]"
   ]
  },
  {
   "attachments": {},
   "cell_type": "markdown",
   "metadata": {},
   "source": [
    "### K2"
   ]
  },
  {
   "cell_type": "code",
   "execution_count": 3,
   "metadata": {},
   "outputs": [],
   "source": [
    "edges_k2 = [('colegio_rural', 'presentacion_mcpio_distinto'), ('colegio_rural', 'colegio_privado'), ('colegio_rural', 'colegio_mcpio_distinto'), ('colegio_rural', 'colegio_genero'), ('colegio_rural', 'colegio_calendario'), ('colegio_calendario', 'colegio_bilingue'), ('colegio_privado', 'colegio_jornada'), ('colegio_privado', 'colegio_calendario'), ('colegio_privado', 'presentacion_mcpio_distinto'), ('colegio_privado', 'colegio_mcpio_distinto'), ('colegio_genero', 'estudiante_genero'), ('colegio_genero', 'colegio_bilingue'), ('colegio_jornada', 'colegio_genero'), ('colegio_jornada', 'colegio_calendario'), ('colegio_jornada', 'colegio_bilingue'), ('colegio_jornada', 'estudiante_genero'), ('familia_estrato', 'madre_educacion'), ('familia_estrato', 'internet'), ('familia_estrato', 'colegio_privado'), ('familia_estrato', 'padre_educacion'), ('familia_estrato', 'colegio_calendario'), ('familia_estrato', 'computador'), ('familia_estrato', 'colegio_rural'), ('familia_estrato', 'colegio_bilingue'), ('familia_estrato', 'colegio_genero'), ('familia_estrato', 'colegio_mcpio_distinto'), ('madre_educacion', 'padre_educacion'), ('madre_educacion', 'colegio_privado'), ('madre_educacion', 'colegio_jornada'), ('madre_educacion', 'colegio_genero'), ('madre_educacion', 'estudiante_genero'), ('padre_educacion', 'colegio_rural'), ('computador', 'madre_educacion'), ('computador', 'internet'), ('internet', 'madre_educacion'), ('internet', 'colegio_rural'), ('internet', 'presentacion_mcpio_distinto'), ('internet', 'padre_educacion'), ('puntaje', 'colegio_jornada'), ('puntaje', 'padre_educacion'), ('puntaje', 'colegio_privado'), ('puntaje', 'estudiante_genero'), ('puntaje', 'colegio_rural'), ('puntaje', 'computador'), ('puntaje', 'madre_educacion'), ('puntaje', 'colegio_mcpio_distinto'), ('puntaje', 'internet'), ('puntaje', 'familia_estrato'), ('colegio_mcpio_distinto', 'presentacion_mcpio_distinto'), ('presentacion_mcpio_distinto', 'colegio_jornada')]"
   ]
  },
  {
   "cell_type": "code",
   "execution_count": 4,
   "metadata": {},
   "outputs": [],
   "source": [
    "edges_common = [edge for edge in edges_bic if edge in edges_k2]"
   ]
  },
  {
   "cell_type": "code",
   "execution_count": 5,
   "metadata": {},
   "outputs": [
    {
     "data": {
      "text/plain": [
       "[]"
      ]
     },
     "execution_count": 5,
     "metadata": {},
     "output_type": "execute_result"
    }
   ],
   "source": [
    "[edge for edge in edges_common if edge[1] == 'puntaje']"
   ]
  },
  {
   "attachments": {},
   "cell_type": "markdown",
   "metadata": {},
   "source": [
    "## Carga de Datos"
   ]
  },
  {
   "cell_type": "code",
   "execution_count": 6,
   "metadata": {},
   "outputs": [],
   "source": [
    "df = pd.read_csv(\"../../../Data/Transformed/Discrete.csv\")"
   ]
  },
  {
   "cell_type": "code",
   "execution_count": 7,
   "metadata": {},
   "outputs": [],
   "source": [
    "df.drop(['colegio_calendario', 'colegio_jornada', 'colegio_genero', 'estudiante_genero'], axis=1, inplace=True)"
   ]
  },
  {
   "cell_type": "code",
   "execution_count": 8,
   "metadata": {},
   "outputs": [
    {
     "data": {
      "text/html": [
       "<div>\n",
       "<style scoped>\n",
       "    .dataframe tbody tr th:only-of-type {\n",
       "        vertical-align: middle;\n",
       "    }\n",
       "\n",
       "    .dataframe tbody tr th {\n",
       "        vertical-align: top;\n",
       "    }\n",
       "\n",
       "    .dataframe thead th {\n",
       "        text-align: right;\n",
       "    }\n",
       "</style>\n",
       "<table border=\"1\" class=\"dataframe\">\n",
       "  <thead>\n",
       "    <tr style=\"text-align: right;\">\n",
       "      <th></th>\n",
       "      <th>colegio_rural</th>\n",
       "      <th>colegio_bilingue</th>\n",
       "      <th>colegio_privado</th>\n",
       "      <th>familia_estrato</th>\n",
       "      <th>madre_educacion</th>\n",
       "      <th>padre_educacion</th>\n",
       "      <th>computador</th>\n",
       "      <th>internet</th>\n",
       "      <th>puntaje</th>\n",
       "      <th>colegio_mcpio_distinto</th>\n",
       "      <th>presentacion_mcpio_distinto</th>\n",
       "    </tr>\n",
       "  </thead>\n",
       "  <tbody>\n",
       "    <tr>\n",
       "      <th>0</th>\n",
       "      <td>0</td>\n",
       "      <td>0</td>\n",
       "      <td>0</td>\n",
       "      <td>1</td>\n",
       "      <td>4</td>\n",
       "      <td>2</td>\n",
       "      <td>1</td>\n",
       "      <td>1</td>\n",
       "      <td>5</td>\n",
       "      <td>0</td>\n",
       "      <td>0</td>\n",
       "    </tr>\n",
       "    <tr>\n",
       "      <th>1</th>\n",
       "      <td>0</td>\n",
       "      <td>0</td>\n",
       "      <td>0</td>\n",
       "      <td>1</td>\n",
       "      <td>3</td>\n",
       "      <td>3</td>\n",
       "      <td>0</td>\n",
       "      <td>0</td>\n",
       "      <td>4</td>\n",
       "      <td>0</td>\n",
       "      <td>1</td>\n",
       "    </tr>\n",
       "    <tr>\n",
       "      <th>2</th>\n",
       "      <td>0</td>\n",
       "      <td>0</td>\n",
       "      <td>0</td>\n",
       "      <td>1</td>\n",
       "      <td>3</td>\n",
       "      <td>3</td>\n",
       "      <td>0</td>\n",
       "      <td>0</td>\n",
       "      <td>4</td>\n",
       "      <td>0</td>\n",
       "      <td>1</td>\n",
       "    </tr>\n",
       "    <tr>\n",
       "      <th>3</th>\n",
       "      <td>1</td>\n",
       "      <td>0</td>\n",
       "      <td>1</td>\n",
       "      <td>4</td>\n",
       "      <td>9</td>\n",
       "      <td>10</td>\n",
       "      <td>1</td>\n",
       "      <td>1</td>\n",
       "      <td>7</td>\n",
       "      <td>0</td>\n",
       "      <td>0</td>\n",
       "    </tr>\n",
       "    <tr>\n",
       "      <th>4</th>\n",
       "      <td>0</td>\n",
       "      <td>0</td>\n",
       "      <td>0</td>\n",
       "      <td>1</td>\n",
       "      <td>2</td>\n",
       "      <td>2</td>\n",
       "      <td>1</td>\n",
       "      <td>1</td>\n",
       "      <td>5</td>\n",
       "      <td>0</td>\n",
       "      <td>0</td>\n",
       "    </tr>\n",
       "  </tbody>\n",
       "</table>\n",
       "</div>"
      ],
      "text/plain": [
       "   colegio_rural  colegio_bilingue  colegio_privado  familia_estrato  \\\n",
       "0              0                 0                0                1   \n",
       "1              0                 0                0                1   \n",
       "2              0                 0                0                1   \n",
       "3              1                 0                1                4   \n",
       "4              0                 0                0                1   \n",
       "\n",
       "   madre_educacion  padre_educacion  computador  internet  puntaje  \\\n",
       "0                4                2           1         1        5   \n",
       "1                3                3           0         0        4   \n",
       "2                3                3           0         0        4   \n",
       "3                9               10           1         1        7   \n",
       "4                2                2           1         1        5   \n",
       "\n",
       "   colegio_mcpio_distinto  presentacion_mcpio_distinto  \n",
       "0                       0                            0  \n",
       "1                       0                            1  \n",
       "2                       0                            1  \n",
       "3                       0                            0  \n",
       "4                       0                            0  "
      ]
     },
     "execution_count": 8,
     "metadata": {},
     "output_type": "execute_result"
    }
   ],
   "source": [
    "df.head()"
   ]
  },
  {
   "cell_type": "code",
   "execution_count": 9,
   "metadata": {},
   "outputs": [
    {
     "name": "stdout",
     "output_type": "stream",
     "text": [
      "<class 'pandas.core.frame.DataFrame'>\n",
      "RangeIndex: 3295965 entries, 0 to 3295964\n",
      "Data columns (total 11 columns):\n",
      " #   Column                       Dtype\n",
      "---  ------                       -----\n",
      " 0   colegio_rural                int64\n",
      " 1   colegio_bilingue             int64\n",
      " 2   colegio_privado              int64\n",
      " 3   familia_estrato              int64\n",
      " 4   madre_educacion              int64\n",
      " 5   padre_educacion              int64\n",
      " 6   computador                   int64\n",
      " 7   internet                     int64\n",
      " 8   puntaje                      int64\n",
      " 9   colegio_mcpio_distinto       int64\n",
      " 10  presentacion_mcpio_distinto  int64\n",
      "dtypes: int64(11)\n",
      "memory usage: 276.6 MB\n"
     ]
    }
   ],
   "source": [
    "df.info()"
   ]
  },
  {
   "attachments": {},
   "cell_type": "markdown",
   "metadata": {},
   "source": [
    "## Creación Red"
   ]
  },
  {
   "cell_type": "code",
   "execution_count": 13,
   "metadata": {},
   "outputs": [],
   "source": [
    "model = BayesianNetwork(\n",
    "    [\n",
    "        # Colegio Rural\n",
    "        ('colegio_rural', 'presentacion_mcpio_distinto'),\n",
    "        ('colegio_rural', 'colegio_privado'),\n",
    "        ('colegio_rural', 'colegio_mcpio_distinto'),\n",
    "        \n",
    "        # Colegio Bilingue\n",
    "        ('colegio_bilingue', 'puntaje'),\n",
    "        \n",
    "        # Colegio Privado\n",
    "        ('colegio_privado', 'presentacion_mcpio_distinto'),\n",
    "        ('colegio_privado', 'colegio_bilingue'),\n",
    "        ('colegio_privado', 'puntaje'),\n",
    "        \n",
    "        # Estrato\n",
    "        ('familia_estrato', 'colegio_privado'),\n",
    "        ('familia_estrato', 'internet'),\n",
    "        ('familia_estrato', 'computador'),\n",
    "        ('familia_estrato', 'puntaje'),\n",
    "        \n",
    "        # Madre Educacion\n",
    "        ('madre_educacion', 'familia_estrato'),\n",
    "        \n",
    "        # Padre Educacion\n",
    "        ('padre_educacion', 'familia_estrato'),\n",
    "        \n",
    "        # Computador\n",
    "        ('computador', 'puntaje'),\n",
    "        \n",
    "        # Internet\n",
    "        ('internet', 'puntaje'),\n",
    "                \n",
    "        # Presenta otro Municipio\n",
    "        ('presentacion_mcpio_distinto', 'puntaje'),\n",
    "    ]\n",
    ")"
   ]
  },
  {
   "cell_type": "code",
   "execution_count": 14,
   "metadata": {},
   "outputs": [
    {
     "data": {
      "text/plain": [
       "11"
      ]
     },
     "execution_count": 14,
     "metadata": {},
     "output_type": "execute_result"
    }
   ],
   "source": [
    "len(model.nodes)"
   ]
  },
  {
   "attachments": {},
   "cell_type": "markdown",
   "metadata": {},
   "source": [
    "## Parametrización\n",
    "\n",
    "### Máxima Verosimilitud"
   ]
  },
  {
   "cell_type": "code",
   "execution_count": 15,
   "metadata": {},
   "outputs": [
    {
     "data": {
      "text/plain": [
       "True"
      ]
     },
     "execution_count": 15,
     "metadata": {},
     "output_type": "execute_result"
    }
   ],
   "source": [
    "model.fit (\n",
    "    data=df,\n",
    "    estimator=MaximumLikelihoodEstimator\n",
    ")\n",
    "model.check_model()"
   ]
  },
  {
   "cell_type": "code",
   "execution_count": 56,
   "metadata": {},
   "outputs": [
    {
     "name": "stdout",
     "output_type": "stream",
     "text": [
      "colegio_rural\n",
      "+------------------+----------+\n",
      "| colegio_rural(0) | 0.871529 |\n",
      "+------------------+----------+\n",
      "| colegio_rural(1) | 0.128471 |\n",
      "+------------------+----------+\n",
      "presentacion_mcpio_distinto\n",
      "+--------------------------------+-----+--------------------+\n",
      "| colegio_privado                | ... | colegio_privado(1) |\n",
      "+--------------------------------+-----+--------------------+\n",
      "| colegio_rural                  | ... | colegio_rural(1)   |\n",
      "+--------------------------------+-----+--------------------+\n",
      "| presentacion_mcpio_distinto(0) | ... | 0.778711776187378  |\n",
      "+--------------------------------+-----+--------------------+\n",
      "| presentacion_mcpio_distinto(1) | ... | 0.221288223812622  |\n",
      "+--------------------------------+-----+--------------------+\n",
      "colegio_privado\n",
      "+--------------------+-----+--------------------+\n",
      "| colegio_rural      | ... | colegio_rural(1)   |\n",
      "+--------------------+-----+--------------------+\n",
      "| familia_estrato    | ... | familia_estrato(6) |\n",
      "+--------------------+-----+--------------------+\n",
      "| colegio_privado(0) | ... | 0.2699008308764406 |\n",
      "+--------------------+-----+--------------------+\n",
      "| colegio_privado(1) | ... | 0.7300991691235593 |\n",
      "+--------------------+-----+--------------------+\n",
      "colegio_mcpio_distinto\n",
      "+---------------------------+---------------------+---------------------+\n",
      "| colegio_rural             | colegio_rural(0)    | colegio_rural(1)    |\n",
      "+---------------------------+---------------------+---------------------+\n",
      "| colegio_mcpio_distinto(0) | 0.9657591043435577  | 0.9250061992985936  |\n",
      "+---------------------------+---------------------+---------------------+\n",
      "| colegio_mcpio_distinto(1) | 0.03424089565644223 | 0.07499380070140635 |\n",
      "+---------------------------+---------------------+---------------------+\n",
      "colegio_bilingue\n",
      "+---------------------+----------------------+---------------------+\n",
      "| colegio_privado     | colegio_privado(0)   | colegio_privado(1)  |\n",
      "+---------------------+----------------------+---------------------+\n",
      "| colegio_bilingue(0) | 0.9888389636249413   | 0.95525627951645    |\n",
      "+---------------------+----------------------+---------------------+\n",
      "| colegio_bilingue(1) | 0.011161036375058733 | 0.04474372048354999 |\n",
      "+---------------------+----------------------+---------------------+\n",
      "puntaje\n",
      "+-----------------------------+-----+--------------------------------+\n",
      "| colegio_bilingue            | ... | colegio_bilingue(1)            |\n",
      "+-----------------------------+-----+--------------------------------+\n",
      "| colegio_mcpio_distinto      | ... | colegio_mcpio_distinto(1)      |\n",
      "+-----------------------------+-----+--------------------------------+\n",
      "| colegio_privado             | ... | colegio_privado(1)             |\n",
      "+-----------------------------+-----+--------------------------------+\n",
      "| computador                  | ... | computador(1)                  |\n",
      "+-----------------------------+-----+--------------------------------+\n",
      "| estudiante_genero           | ... | estudiante_genero(1)           |\n",
      "+-----------------------------+-----+--------------------------------+\n",
      "| familia_estrato             | ... | familia_estrato(6)             |\n",
      "+-----------------------------+-----+--------------------------------+\n",
      "| internet                    | ... | internet(1)                    |\n",
      "+-----------------------------+-----+--------------------------------+\n",
      "| madre_educacion             | ... | madre_educacion(10)            |\n",
      "+-----------------------------+-----+--------------------------------+\n",
      "| padre_educacion             | ... | padre_educacion(10)            |\n",
      "+-----------------------------+-----+--------------------------------+\n",
      "| presentacion_mcpio_distinto | ... | presentacion_mcpio_distinto(1) |\n",
      "+-----------------------------+-----+--------------------------------+\n",
      "| puntaje(1)                  | ... | 0.0                            |\n",
      "+-----------------------------+-----+--------------------------------+\n",
      "| puntaje(2)                  | ... | 0.0                            |\n",
      "+-----------------------------+-----+--------------------------------+\n",
      "| puntaje(3)                  | ... | 0.0                            |\n",
      "+-----------------------------+-----+--------------------------------+\n",
      "| puntaje(4)                  | ... | 0.0                            |\n",
      "+-----------------------------+-----+--------------------------------+\n",
      "| puntaje(5)                  | ... | 0.0                            |\n",
      "+-----------------------------+-----+--------------------------------+\n",
      "| puntaje(6)                  | ... | 0.05357142857142857            |\n",
      "+-----------------------------+-----+--------------------------------+\n",
      "| puntaje(7)                  | ... | 0.32142857142857145            |\n",
      "+-----------------------------+-----+--------------------------------+\n",
      "| puntaje(8)                  | ... | 0.5892857142857143             |\n",
      "+-----------------------------+-----+--------------------------------+\n",
      "| puntaje(9)                  | ... | 0.03571428571428571            |\n",
      "+-----------------------------+-----+--------------------------------+\n",
      "| puntaje(10)                 | ... | 0.0                            |\n",
      "+-----------------------------+-----+--------------------------------+\n",
      "estudiante_genero\n",
      "+----------------------+----------+\n",
      "| estudiante_genero(0) | 0.549373 |\n",
      "+----------------------+----------+\n",
      "| estudiante_genero(1) | 0.450627 |\n",
      "+----------------------+----------+\n",
      "familia_estrato\n",
      "+--------------------+-----+----------------------+\n",
      "| madre_educacion    | ... | madre_educacion(10)  |\n",
      "+--------------------+-----+----------------------+\n",
      "| padre_educacion    | ... | padre_educacion(10)  |\n",
      "+--------------------+-----+----------------------+\n",
      "| familia_estrato(1) | ... | 0.026454378444580526 |\n",
      "+--------------------+-----+----------------------+\n",
      "| familia_estrato(2) | ... | 0.08950398040416412  |\n",
      "+--------------------+-----+----------------------+\n",
      "| familia_estrato(3) | ... | 0.23630128597672995  |\n",
      "+--------------------+-----+----------------------+\n",
      "| familia_estrato(4) | ... | 0.28186160440906305  |\n",
      "+--------------------+-----+----------------------+\n",
      "| familia_estrato(5) | ... | 0.190789957134109    |\n",
      "+--------------------+-----+----------------------+\n",
      "| familia_estrato(6) | ... | 0.17508879363135335  |\n",
      "+--------------------+-----+----------------------+\n",
      "internet\n",
      "+-----------------+-----+---------------------+\n",
      "| familia_estrato | ... | familia_estrato(6)  |\n",
      "+-----------------+-----+---------------------+\n",
      "| internet(0)     | ... | 0.10746399191013693 |\n",
      "+-----------------+-----+---------------------+\n",
      "| internet(1)     | ... | 0.8925360080898631  |\n",
      "+-----------------+-----+---------------------+\n",
      "computador\n",
      "+-----------------+-----+--------------------+\n",
      "| familia_estrato | ... | familia_estrato(6) |\n",
      "+-----------------+-----+--------------------+\n",
      "| computador(0)   | ... | 0.1323621853562546 |\n",
      "+-----------------+-----+--------------------+\n",
      "| computador(1)   | ... | 0.8676378146437453 |\n",
      "+-----------------+-----+--------------------+\n",
      "madre_educacion\n",
      "+---------------------+-----------+\n",
      "| madre_educacion(1)  | 0.0215427 |\n",
      "+---------------------+-----------+\n",
      "| madre_educacion(2)  | 0.145828  |\n",
      "+---------------------+-----------+\n",
      "| madre_educacion(3)  | 0.122268  |\n",
      "+---------------------+-----------+\n",
      "| madre_educacion(4)  | 0.150535  |\n",
      "+---------------------+-----------+\n",
      "| madre_educacion(5)  | 0.27859   |\n",
      "+---------------------+-----------+\n",
      "| madre_educacion(6)  | 0.028348  |\n",
      "+---------------------+-----------+\n",
      "| madre_educacion(7)  | 0.0940932 |\n",
      "+---------------------+-----------+\n",
      "| madre_educacion(8)  | 0.0223052 |\n",
      "+---------------------+-----------+\n",
      "| madre_educacion(9)  | 0.1106    |\n",
      "+---------------------+-----------+\n",
      "| madre_educacion(10) | 0.0258898 |\n",
      "+---------------------+-----------+\n",
      "padre_educacion\n",
      "+---------------------+-----------+\n",
      "| padre_educacion(1)  | 0.0408053 |\n",
      "+---------------------+-----------+\n",
      "| padre_educacion(2)  | 0.18912   |\n",
      "+---------------------+-----------+\n",
      "| padre_educacion(3)  | 0.130179  |\n",
      "+---------------------+-----------+\n",
      "| padre_educacion(4)  | 0.148511  |\n",
      "+---------------------+-----------+\n",
      "| padre_educacion(5)  | 0.25493   |\n",
      "+---------------------+-----------+\n",
      "| padre_educacion(6)  | 0.0213476 |\n",
      "+---------------------+-----------+\n",
      "| padre_educacion(7)  | 0.069116  |\n",
      "+---------------------+-----------+\n",
      "| padre_educacion(8)  | 0.0190933 |\n",
      "+---------------------+-----------+\n",
      "| padre_educacion(9)  | 0.101492  |\n",
      "+---------------------+-----------+\n",
      "| padre_educacion(10) | 0.0254059 |\n",
      "+---------------------+-----------+\n"
     ]
    }
   ],
   "source": [
    "for i in model.nodes():\n",
    "    print(i)\n",
    "    print(model.get_cpds(i))"
   ]
  },
  {
   "attachments": {},
   "cell_type": "markdown",
   "metadata": {},
   "source": [
    "### Guardar Modelo"
   ]
  },
  {
   "cell_type": "code",
   "execution_count": 17,
   "metadata": {},
   "outputs": [],
   "source": [
    "writer = BIFWriter(model)\n",
    "writer.write_bif('../../../Models/Modelo.bif')"
   ]
  }
 ],
 "metadata": {
  "kernelspec": {
   "display_name": "Python 3",
   "language": "python",
   "name": "python3"
  },
  "language_info": {
   "codemirror_mode": {
    "name": "ipython",
    "version": 3
   },
   "file_extension": ".py",
   "mimetype": "text/x-python",
   "name": "python",
   "nbconvert_exporter": "python",
   "pygments_lexer": "ipython3",
   "version": "3.10.6"
  },
  "orig_nbformat": 4
 },
 "nbformat": 4,
 "nbformat_minor": 2
}
