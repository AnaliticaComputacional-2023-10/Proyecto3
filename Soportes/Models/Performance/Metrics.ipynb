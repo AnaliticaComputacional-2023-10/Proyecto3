{
 "cells": [
  {
   "attachments": {},
   "cell_type": "markdown",
   "metadata": {},
   "source": [
    "# Proyecto 3\n",
    "\n",
    "**Tema:** Resultados Saber 11\n",
    "\n",
    "\n",
    "|     Nombres      |      Apellidos       |     Login     |  Codigo   |\n",
    "| :--------------: | :------------------: | :-----------: | :-------: |\n",
    "|     Santiago     | Gonzalez Montealegre | s.gonzalez35  | 202012274 |\n",
    "| Juliana Carolina |  Cardenas Barragan   | jc.cardenasb1 | 202011683 |\n"
   ]
  },
  {
   "attachments": {},
   "cell_type": "markdown",
   "metadata": {},
   "source": [
    "## Entrenamiento Modelo"
   ]
  },
  {
   "attachments": {},
   "cell_type": "markdown",
   "metadata": {},
   "source": [
    "## Librerías Requeridas"
   ]
  },
  {
   "cell_type": "code",
   "execution_count": 11,
   "metadata": {},
   "outputs": [],
   "source": [
    "import pandas as pd\n",
    "from sklearn import metrics\n",
    "import matplotlib.pyplot as plt\n",
    "import seaborn as sns"
   ]
  },
  {
   "attachments": {},
   "cell_type": "markdown",
   "metadata": {},
   "source": [
    "## Carga de Datos"
   ]
  },
  {
   "cell_type": "code",
   "execution_count": 20,
   "metadata": {},
   "outputs": [],
   "source": [
    "df = pd.read_csv(\"../../../Data/Transformed/Test.csv\")"
   ]
  },
  {
   "cell_type": "code",
   "execution_count": 21,
   "metadata": {},
   "outputs": [
    {
     "data": {
      "text/html": [
       "<div>\n",
       "<style scoped>\n",
       "    .dataframe tbody tr th:only-of-type {\n",
       "        vertical-align: middle;\n",
       "    }\n",
       "\n",
       "    .dataframe tbody tr th {\n",
       "        vertical-align: top;\n",
       "    }\n",
       "\n",
       "    .dataframe thead th {\n",
       "        text-align: right;\n",
       "    }\n",
       "</style>\n",
       "<table border=\"1\" class=\"dataframe\">\n",
       "  <thead>\n",
       "    <tr style=\"text-align: right;\">\n",
       "      <th></th>\n",
       "      <th>colegio_rural</th>\n",
       "      <th>colegio_bilingue</th>\n",
       "      <th>colegio_privado</th>\n",
       "      <th>familia_estrato</th>\n",
       "      <th>madre_educacion</th>\n",
       "      <th>padre_educacion</th>\n",
       "      <th>computador</th>\n",
       "      <th>internet</th>\n",
       "      <th>colegio_mcpio_distinto</th>\n",
       "      <th>presentacion_mcpio_distinto</th>\n",
       "      <th>puntaje</th>\n",
       "      <th>test</th>\n",
       "    </tr>\n",
       "  </thead>\n",
       "  <tbody>\n",
       "    <tr>\n",
       "      <th>0</th>\n",
       "      <td>0</td>\n",
       "      <td>0</td>\n",
       "      <td>0</td>\n",
       "      <td>1</td>\n",
       "      <td>5</td>\n",
       "      <td>5</td>\n",
       "      <td>0</td>\n",
       "      <td>0</td>\n",
       "      <td>0</td>\n",
       "      <td>1</td>\n",
       "      <td>5</td>\n",
       "      <td>5</td>\n",
       "    </tr>\n",
       "    <tr>\n",
       "      <th>1</th>\n",
       "      <td>0</td>\n",
       "      <td>0</td>\n",
       "      <td>0</td>\n",
       "      <td>3</td>\n",
       "      <td>4</td>\n",
       "      <td>3</td>\n",
       "      <td>1</td>\n",
       "      <td>1</td>\n",
       "      <td>1</td>\n",
       "      <td>1</td>\n",
       "      <td>6</td>\n",
       "      <td>6</td>\n",
       "    </tr>\n",
       "    <tr>\n",
       "      <th>2</th>\n",
       "      <td>0</td>\n",
       "      <td>0</td>\n",
       "      <td>1</td>\n",
       "      <td>4</td>\n",
       "      <td>9</td>\n",
       "      <td>9</td>\n",
       "      <td>1</td>\n",
       "      <td>1</td>\n",
       "      <td>0</td>\n",
       "      <td>0</td>\n",
       "      <td>7</td>\n",
       "      <td>7</td>\n",
       "    </tr>\n",
       "    <tr>\n",
       "      <th>3</th>\n",
       "      <td>0</td>\n",
       "      <td>0</td>\n",
       "      <td>0</td>\n",
       "      <td>2</td>\n",
       "      <td>4</td>\n",
       "      <td>4</td>\n",
       "      <td>0</td>\n",
       "      <td>0</td>\n",
       "      <td>0</td>\n",
       "      <td>0</td>\n",
       "      <td>5</td>\n",
       "      <td>5</td>\n",
       "    </tr>\n",
       "    <tr>\n",
       "      <th>4</th>\n",
       "      <td>0</td>\n",
       "      <td>0</td>\n",
       "      <td>0</td>\n",
       "      <td>3</td>\n",
       "      <td>7</td>\n",
       "      <td>9</td>\n",
       "      <td>1</td>\n",
       "      <td>1</td>\n",
       "      <td>0</td>\n",
       "      <td>0</td>\n",
       "      <td>5</td>\n",
       "      <td>6</td>\n",
       "    </tr>\n",
       "  </tbody>\n",
       "</table>\n",
       "</div>"
      ],
      "text/plain": [
       "   colegio_rural  colegio_bilingue  colegio_privado  familia_estrato  \\\n",
       "0              0                 0                0                1   \n",
       "1              0                 0                0                3   \n",
       "2              0                 0                1                4   \n",
       "3              0                 0                0                2   \n",
       "4              0                 0                0                3   \n",
       "\n",
       "   madre_educacion  padre_educacion  computador  internet  \\\n",
       "0                5                5           0         0   \n",
       "1                4                3           1         1   \n",
       "2                9                9           1         1   \n",
       "3                4                4           0         0   \n",
       "4                7                9           1         1   \n",
       "\n",
       "   colegio_mcpio_distinto  presentacion_mcpio_distinto  puntaje  test  \n",
       "0                       0                            1        5     5  \n",
       "1                       1                            1        6     6  \n",
       "2                       0                            0        7     7  \n",
       "3                       0                            0        5     5  \n",
       "4                       0                            0        5     6  "
      ]
     },
     "execution_count": 21,
     "metadata": {},
     "output_type": "execute_result"
    }
   ],
   "source": [
    "df.head()"
   ]
  },
  {
   "cell_type": "code",
   "execution_count": 22,
   "metadata": {},
   "outputs": [],
   "source": [
    "y_true = df['puntaje']\n",
    "y_pred = df['test']"
   ]
  },
  {
   "cell_type": "code",
   "execution_count": 23,
   "metadata": {},
   "outputs": [
    {
     "data": {
      "image/png": "[encoded data removed]",
      "text/plain": [
       "<Figure size 864x864 with 2 Axes>"
      ]
     },
     "metadata": {
      "needs_background": "light"
     },
     "output_type": "display_data"
    }
   ],
   "source": [
    "cm = metrics.confusion_matrix(y_true, y_pred)\n",
    "cm_display = metrics.ConfusionMatrixDisplay(cm, display_labels=[i for i in range(1, 10+1)])\n",
    "\n",
    "fig, ax = plt.subplots(figsize=(12,12))\n",
    "cm_display.plot(ax=ax)\n",
    "\n",
    "plt.show()"
   ]
  },
  {
   "cell_type": "code",
   "execution_count": 24,
   "metadata": {},
   "outputs": [
    {
     "name": "stdout",
     "output_type": "stream",
     "text": [
      "              precision    recall  f1-score   support\n",
      "\n",
      "           1       0.00      0.00      0.00        35\n",
      "           2       0.00      0.00      0.00        64\n",
      "           3       0.00      0.00      0.00      2116\n",
      "           4       0.45      0.03      0.05    107767\n",
      "           5       0.42      0.68      0.52    286022\n",
      "           6       0.38      0.44      0.41    267359\n",
      "           7       0.38      0.12      0.18    129093\n",
      "           8       0.42      0.10      0.17     28840\n",
      "           9       0.00      0.00      0.00      2599\n",
      "          10       0.00      0.00      0.00        97\n",
      "\n",
      "    accuracy                           0.40    823992\n",
      "   macro avg       0.21      0.14      0.13    823992\n",
      "weighted avg       0.40      0.40      0.35    823992\n",
      "\n"
     ]
    }
   ],
   "source": [
    "print(metrics.classification_report(y_true, y_pred, digits=2, zero_division=0))"
   ]
  },
  {
   "cell_type": "code",
   "execution_count": 25,
   "metadata": {},
   "outputs": [],
   "source": [
    "df.loc[((df['puntaje'] == 1) | (df['puntaje'] == 2)), 'puntaje'] = 1\n",
    "df.loc[((df['puntaje'] == 3) | (df['puntaje'] == 4)), 'puntaje'] = 2\n",
    "df.loc[((df['puntaje'] == 5) | (df['puntaje'] == 6)), 'puntaje'] = 3\n",
    "df.loc[((df['puntaje'] == 7) | (df['puntaje'] == 8)), 'puntaje'] = 4\n",
    "df.loc[((df['puntaje'] == 9) | (df['puntaje'] == 10)), 'puntaje'] = 5\n",
    "\n",
    "df.loc[((df['test'] == 1) | (df['test'] == 2)), 'test'] = 1\n",
    "df.loc[((df['test'] == 3) | (df['test'] == 4)), 'test'] = 2\n",
    "df.loc[((df['test'] == 5) | (df['test'] == 6)), 'test'] = 3\n",
    "df.loc[((df['test'] == 7) | (df['test'] == 8)), 'test'] = 4\n",
    "df.loc[((df['test'] == 9) | (df['test'] == 10)), 'test'] = 5"
   ]
  },
  {
   "cell_type": "code",
   "execution_count": 26,
   "metadata": {},
   "outputs": [
    {
     "data": {
      "text/html": [
       "<div>\n",
       "<style scoped>\n",
       "    .dataframe tbody tr th:only-of-type {\n",
       "        vertical-align: middle;\n",
       "    }\n",
       "\n",
       "    .dataframe tbody tr th {\n",
       "        vertical-align: top;\n",
       "    }\n",
       "\n",
       "    .dataframe thead th {\n",
       "        text-align: right;\n",
       "    }\n",
       "</style>\n",
       "<table border=\"1\" class=\"dataframe\">\n",
       "  <thead>\n",
       "    <tr style=\"text-align: right;\">\n",
       "      <th></th>\n",
       "      <th>colegio_rural</th>\n",
       "      <th>colegio_bilingue</th>\n",
       "      <th>colegio_privado</th>\n",
       "      <th>familia_estrato</th>\n",
       "      <th>madre_educacion</th>\n",
       "      <th>padre_educacion</th>\n",
       "      <th>computador</th>\n",
       "      <th>internet</th>\n",
       "      <th>colegio_mcpio_distinto</th>\n",
       "      <th>presentacion_mcpio_distinto</th>\n",
       "      <th>puntaje</th>\n",
       "      <th>test</th>\n",
       "    </tr>\n",
       "  </thead>\n",
       "  <tbody>\n",
       "    <tr>\n",
       "      <th>0</th>\n",
       "      <td>0</td>\n",
       "      <td>0</td>\n",
       "      <td>0</td>\n",
       "      <td>1</td>\n",
       "      <td>5</td>\n",
       "      <td>5</td>\n",
       "      <td>0</td>\n",
       "      <td>0</td>\n",
       "      <td>0</td>\n",
       "      <td>1</td>\n",
       "      <td>3</td>\n",
       "      <td>3</td>\n",
       "    </tr>\n",
       "    <tr>\n",
       "      <th>1</th>\n",
       "      <td>0</td>\n",
       "      <td>0</td>\n",
       "      <td>0</td>\n",
       "      <td>3</td>\n",
       "      <td>4</td>\n",
       "      <td>3</td>\n",
       "      <td>1</td>\n",
       "      <td>1</td>\n",
       "      <td>1</td>\n",
       "      <td>1</td>\n",
       "      <td>3</td>\n",
       "      <td>3</td>\n",
       "    </tr>\n",
       "    <tr>\n",
       "      <th>2</th>\n",
       "      <td>0</td>\n",
       "      <td>0</td>\n",
       "      <td>1</td>\n",
       "      <td>4</td>\n",
       "      <td>9</td>\n",
       "      <td>9</td>\n",
       "      <td>1</td>\n",
       "      <td>1</td>\n",
       "      <td>0</td>\n",
       "      <td>0</td>\n",
       "      <td>4</td>\n",
       "      <td>4</td>\n",
       "    </tr>\n",
       "    <tr>\n",
       "      <th>3</th>\n",
       "      <td>0</td>\n",
       "      <td>0</td>\n",
       "      <td>0</td>\n",
       "      <td>2</td>\n",
       "      <td>4</td>\n",
       "      <td>4</td>\n",
       "      <td>0</td>\n",
       "      <td>0</td>\n",
       "      <td>0</td>\n",
       "      <td>0</td>\n",
       "      <td>3</td>\n",
       "      <td>3</td>\n",
       "    </tr>\n",
       "    <tr>\n",
       "      <th>4</th>\n",
       "      <td>0</td>\n",
       "      <td>0</td>\n",
       "      <td>0</td>\n",
       "      <td>3</td>\n",
       "      <td>7</td>\n",
       "      <td>9</td>\n",
       "      <td>1</td>\n",
       "      <td>1</td>\n",
       "      <td>0</td>\n",
       "      <td>0</td>\n",
       "      <td>3</td>\n",
       "      <td>3</td>\n",
       "    </tr>\n",
       "  </tbody>\n",
       "</table>\n",
       "</div>"
      ],
      "text/plain": [
       "   colegio_rural  colegio_bilingue  colegio_privado  familia_estrato  \\\n",
       "0              0                 0                0                1   \n",
       "1              0                 0                0                3   \n",
       "2              0                 0                1                4   \n",
       "3              0                 0                0                2   \n",
       "4              0                 0                0                3   \n",
       "\n",
       "   madre_educacion  padre_educacion  computador  internet  \\\n",
       "0                5                5           0         0   \n",
       "1                4                3           1         1   \n",
       "2                9                9           1         1   \n",
       "3                4                4           0         0   \n",
       "4                7                9           1         1   \n",
       "\n",
       "   colegio_mcpio_distinto  presentacion_mcpio_distinto  puntaje  test  \n",
       "0                       0                            1        3     3  \n",
       "1                       1                            1        3     3  \n",
       "2                       0                            0        4     4  \n",
       "3                       0                            0        3     3  \n",
       "4                       0                            0        3     3  "
      ]
     },
     "execution_count": 26,
     "metadata": {},
     "output_type": "execute_result"
    }
   ],
   "source": [
    "df.head()"
   ]
  },
  {
   "cell_type": "code",
   "execution_count": 27,
   "metadata": {},
   "outputs": [],
   "source": [
    "y_true = df['puntaje']\n",
    "y_pred = df['test']"
   ]
  },
  {
   "cell_type": "code",
   "execution_count": 30,
   "metadata": {},
   "outputs": [
    {
     "data": {
      "image/png": "[encoded data removed]",
      "text/plain": [
       "<Figure size 864x864 with 2 Axes>"
      ]
     },
     "metadata": {
      "needs_background": "light"
     },
     "output_type": "display_data"
    }
   ],
   "source": [
    "cm = metrics.confusion_matrix(y_true, y_pred)\n",
    "cm_display = metrics.ConfusionMatrixDisplay(cm, display_labels=[i for i in range(1, 5+1)])\n",
    "\n",
    "fig, ax = plt.subplots(figsize=(12,12))\n",
    "cm_display.plot(ax=ax)\n",
    "\n",
    "plt.show()"
   ]
  },
  {
   "cell_type": "code",
   "execution_count": 29,
   "metadata": {},
   "outputs": [
    {
     "name": "stdout",
     "output_type": "stream",
     "text": [
      "              precision    recall  f1-score   support\n",
      "\n",
      "           1       0.00      0.00      0.00        99\n",
      "           2       0.47      0.03      0.06    109883\n",
      "           3       0.69      0.97      0.81    553381\n",
      "           4       0.62      0.18      0.28    157933\n",
      "           5       0.00      0.00      0.00      2696\n",
      "\n",
      "    accuracy                           0.69    823992\n",
      "   macro avg       0.36      0.24      0.23    823992\n",
      "weighted avg       0.65      0.69      0.60    823992\n",
      "\n"
     ]
    }
   ],
   "source": [
    "print(metrics.classification_report(y_true, y_pred, digits=2, zero_division=0))"
   ]
  }
 ],
 "metadata": {
  "kernelspec": {
   "display_name": "Python 3",
   "language": "python",
   "name": "python3"
  },
  "language_info": {
   "codemirror_mode": {
    "name": "ipython",
    "version": 3
   },
   "file_extension": ".py",
   "mimetype": "text/x-python",
   "name": "python",
   "nbconvert_exporter": "python",
   "pygments_lexer": "ipython3",
   "version": "3.10.6"
  },
  "orig_nbformat": 4
 },
 "nbformat": 4,
 "nbformat_minor": 2
}
